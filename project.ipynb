{
 "cells": [
  {
   "cell_type": "code",
   "execution_count": null,
   "metadata": {},
   "outputs": [],
   "source": [
    "import json #to read the json file\n",
    "import matplotlib.pyplot as plt #to plot the graph\n",
    "from datetime import datetime #to change the date format from int to datetime\n",
    "import numpy as np #to use the numpy array\n",
    "import pandas as pd #to read the json file"
   ]
  },
  {
   "cell_type": "code",
   "execution_count": null,
   "metadata": {},
   "outputs": [],
   "source": [
    "# Initialize a dictionary to store steps per day\n",
    "steps_per_day = {}\n",
    "\n",
    "# Loop through file names with numbers in the range (1, 43)\n",
    "for i in range(1, 43):\n",
    "    file_name = f\"sport per minute merged data{i}.json\" \n",
    "    with open(file_name, 'r') as file:\n",
    "        data = json.load(file)\n",
    "\n",
    "    # Extract the steps and days from the file\n",
    "    for entry in data:\n",
    "        sport_data = entry.get(\"sportDataUserData\", [])\n",
    "        record_day = entry.get(\"recordDay\", None)\n",
    "        if record_day is not None:\n",
    "            total_steps = sum(\n",
    "                basic_info.get(\"steps\", 0) \n",
    "                for sport_entry in sport_data \n",
    "                for basic_info in sport_entry.get(\"sportBasicInfos\", [])\n",
    "            )\n",
    "            # Aggregate steps by day\n",
    "            steps_per_day[record_day] = steps_per_day.get(record_day, 0) + total_steps\n",
    "\n",
    "# Convert integer days to date strings and sort the data\n",
    "sorted_days = sorted(steps_per_day.keys())\n",
    "sorted_dates = [datetime.strptime(str(day), \"%Y%m%d\").strftime(\"%Y-%m-%d\") for day in sorted_days]\n",
    "sorted_steps = [steps_per_day[day] for day in sorted_days]\n"
   ]
  }
 ],
 "metadata": {
  "language_info": {
   "name": "python"
  }
 },
 "nbformat": 4,
 "nbformat_minor": 2
}
